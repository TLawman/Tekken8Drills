{
 "cells": [
  {
   "cell_type": "code",
   "execution_count": 2,
   "metadata": {},
   "outputs": [
    {
     "name": "stdout",
     "output_type": "stream",
     "text": [
      "Sampling pollings per thread to select the right thread\n",
      "Picking the best thread amongst {\"13736\":7}. Selected: 13736\n",
      "XInput Injection is operational\n"
     ]
    }
   ],
   "source": [
    "from controller import *\n",
    "from input_inject import InputInject, search_window\n",
    "import time\n",
    "PID, HWND = search_window(\"TEKKEN™8  \") \n",
    "lab = InputInject(PID, HWND)\n",
    "lab.start()"
   ]
  },
  {
   "cell_type": "code",
   "execution_count": 43,
   "metadata": {},
   "outputs": [],
   "source": [
    "# Start recording\n",
    "lab.send(P1, [[2, XINPUT_BACK, XINPUT_B]])\n",
    "lab.commit()\n",
    "time.sleep(0.5)\n",
    "\n",
    "# Part 1, Repeat Dash 2,2 FOUR times \n",
    "for _ in range(4):\n",
    "    lab.send(P1, [[2, FORWARD]])\n",
    "    lab.commit()\n",
    "    time.sleep(0.2)\n",
    "    lab.send(P1, [[2, FORWARD]])\n",
    "    lab.commit()\n",
    "    time.sleep(0.3)\n",
    "    lab.send(P1, [[2, TWO]])\n",
    "    lab.commit()\n",
    "    time.sleep(0.4)\n",
    "    lab.send(P1, [[2, TWO]])\n",
    "    lab.commit()\n",
    "    time.sleep(0.5)\n",
    "\n",
    "# Finish with Start button\n",
    "lab.send(P1, [[2, XINPUT_START]])\n",
    "lab.commit()\n",
    "\n",
    "# Press the A button shortly after Start\n",
    "time.sleep(0.4)\n",
    "lab.send(P1, [[3, XINPUT_A]])\n",
    "lab.commit()\n"
   ]
  },
  {
   "cell_type": "code",
   "execution_count": 42,
   "metadata": {},
   "outputs": [],
   "source": [
    "# Start recording\n",
    "lab.send(P1, [[2, XINPUT_BACK, XINPUT_B]])\n",
    "lab.commit()\n",
    "time.sleep(0.5)\n",
    "\n",
    "# Part 2 Dash 2 DF2 THEN BACK\n",
    "lab.send(P1, [[2, FORWARD]])\n",
    "lab.commit()\n",
    "time.sleep(0.2)\n",
    "lab.send(P1, [[2, FORWARD]])\n",
    "lab.commit()\n",
    "time.sleep(0.3)\n",
    "lab.send(P1, [[2, TWO]])\n",
    "lab.commit()\n",
    "time.sleep(0.5)\n",
    "lab.send(P1, [[3, DOWN, FORWARD, TWO]])\n",
    "lab.commit()\n",
    "time.sleep(0.5)\n",
    "# Hold BACK to move backward\n",
    "lab.send(P1, [[55, BACK]])\n",
    "lab.commit()\n",
    "time.sleep(1)  \n",
    "\n",
    "# Finish with Start button\n",
    "lab.send(P1, [[2, XINPUT_START]])\n",
    "lab.commit()\n",
    "\n",
    "# Press the A button shortly after Start\n",
    "time.sleep(0.4)\n",
    "lab.send(P1, [[3, XINPUT_A]])\n",
    "lab.commit()"
   ]
  },
  {
   "cell_type": "code",
   "execution_count": 38,
   "metadata": {},
   "outputs": [],
   "source": [
    "# Start recording\n",
    "lab.send(P1, [[2, XINPUT_BACK, XINPUT_B]])\n",
    "lab.commit()\n",
    "time.sleep(0.5)\n",
    "\n",
    "# Dash 2,2 Dash 2, DF2, then BACK\n",
    "# First Dash\n",
    "lab.send(P1, [[2, FORWARD]])\n",
    "lab.commit()\n",
    "time.sleep(0.2)\n",
    "lab.send(P1, [[2, FORWARD]])\n",
    "lab.commit()\n",
    "time.sleep(0.3)\n",
    "lab.send(P1, [[2, TWO]])\n",
    "lab.commit()\n",
    "time.sleep(0.4)\n",
    "lab.send(P1, [[2, TWO]])\n",
    "lab.commit()\n",
    "time.sleep(0.5)\n",
    "\n",
    "# Second Dash\n",
    "lab.send(P1, [[2, FORWARD]])\n",
    "lab.commit()\n",
    "time.sleep(0.2)\n",
    "lab.send(P1, [[2, FORWARD]])\n",
    "lab.commit()\n",
    "time.sleep(0.3)\n",
    "lab.send(P1, [[2, TWO]])\n",
    "lab.commit()\n",
    "time.sleep(0.4)\n",
    "\n",
    "# DOWN FORWARD TWO\n",
    "lab.send(P1, [[2, DOWN, FORWARD, TWO]])\n",
    "lab.commit()\n",
    "time.sleep(0.4)\n",
    "\n",
    "# Hold BACK to move backward\n",
    "lab.send(P1, [[55, BACK]])\n",
    "lab.commit()\n",
    "time.sleep(1)  \n",
    "\n",
    "# Finish with Start button\n",
    "lab.send(P1, [[2, XINPUT_START]])\n",
    "lab.commit()\n",
    "\n",
    "# Press the A button shortly after Start\n",
    "time.sleep(0.4)\n",
    "lab.send(P1, [[3, XINPUT_A]])\n",
    "lab.commit()\n",
    "\n"
   ]
  },
  {
   "cell_type": "code",
   "execution_count": 37,
   "metadata": {},
   "outputs": [],
   "source": [
    "# Start recording\n",
    "lab.send(P1, [[2, XINPUT_BACK, XINPUT_B]])\n",
    "lab.commit()\n",
    "time.sleep(0.5)\n",
    "\n",
    "# Part 1, Repeat Dash 2,2 TWO times \n",
    "for _ in range(2):\n",
    "    lab.send(P1, [[2, FORWARD]])\n",
    "    lab.commit()\n",
    "    time.sleep(0.2)\n",
    "    lab.send(P1, [[2, FORWARD]])\n",
    "    lab.commit()\n",
    "    time.sleep(0.3)\n",
    "    lab.send(P1, [[2, TWO]])\n",
    "    lab.commit()\n",
    "    time.sleep(0.4)\n",
    "    lab.send(P1, [[2, TWO]])\n",
    "    lab.commit()\n",
    "    time.sleep(0.5)\n",
    "\n",
    "# Second Dash\n",
    "lab.send(P1, [[2, FORWARD]])\n",
    "lab.commit()\n",
    "time.sleep(0.2)\n",
    "lab.send(P1, [[2, FORWARD]])\n",
    "lab.commit()\n",
    "time.sleep(0.3)\n",
    "lab.send(P1, [[2, TWO]])\n",
    "lab.commit()\n",
    "time.sleep(0.4)\n",
    "# DF2\n",
    "lab.send(P1, [[2, DOWN, FORWARD, TWO]])\n",
    "lab.commit()\n",
    "time.sleep(0.4)\n",
    "\n",
    "# Hold BACK to move backward\n",
    "lab.send(P1, [[55, BACK]])\n",
    "lab.commit()\n",
    "time.sleep(1)  \n",
    "\n",
    "# Finish with Start button\n",
    "lab.send(P1, [[2, XINPUT_START]])\n",
    "lab.commit()\n",
    "\n",
    "# Press the A button shortly after Start\n",
    "time.sleep(0.4)\n",
    "lab.send(P1, [[3, XINPUT_A]])\n",
    "lab.commit()\n"
   ]
  },
  {
   "cell_type": "code",
   "execution_count": 44,
   "metadata": {},
   "outputs": [
    {
     "name": "stdout",
     "output_type": "stream",
     "text": [
      "Stopped xinput injection\n"
     ]
    }
   ],
   "source": [
    "lab.stop()"
   ]
  },
  {
   "cell_type": "code",
   "execution_count": null,
   "metadata": {},
   "outputs": [],
   "source": [
    "lab.restart()"
   ]
  }
 ],
 "metadata": {
  "kernelspec": {
   "display_name": "Python 3 (ipykernel)",
   "language": "python",
   "name": "python3"
  },
  "language_info": {
   "codemirror_mode": {
    "name": "ipython",
    "version": 3
   },
   "file_extension": ".py",
   "mimetype": "text/x-python",
   "name": "python",
   "nbconvert_exporter": "python",
   "pygments_lexer": "ipython3",
   "version": "3.12.3"
  }
 },
 "nbformat": 4,
 "nbformat_minor": 4
}
