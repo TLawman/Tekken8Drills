{
 "cells": [
  {
   "cell_type": "code",
   "execution_count": 1,
   "metadata": {},
   "outputs": [],
   "source": [
    "from controller import *\n",
    "from input_inject import InputInject, search_window\n",
    "import time"
   ]
  },
  {
   "cell_type": "code",
   "execution_count": 2,
   "metadata": {},
   "outputs": [],
   "source": [
    "PID, HWND = search_window(\"TEKKEN™8  \") # Change the game name if you want, it correspond to the title of the window (search in the task manager or you can see it in windowed mode)"
   ]
  },
  {
   "cell_type": "code",
   "execution_count": 3,
   "metadata": {
    "scrolled": true
   },
   "outputs": [
    {
     "name": "stdout",
     "output_type": "stream",
     "text": [
      "Sampling pollings per thread to select the right thread\n",
      "Picking the best thread amongst {\"296\":12}. Selected: 296\n",
      "XInput Injection is operational\n"
     ]
    }
   ],
   "source": [
    "lab = InputInject(PID, HWND)\n",
    "lab.start()"
   ]
  },
  {
   "cell_type": "code",
   "execution_count": 11,
   "metadata": {},
   "outputs": [],
   "source": [
    "# Start recording\n",
    "lab.send(P1, [[1, XINPUT_BACK, XINPUT_B]])\n",
    "lab.commit()\n",
    "time.sleep(0.5)\n",
    "\n",
    "# Repeat Dash TWO TWO twice\n",
    "for _ in range(4):\n",
    "    lab.send(P1, [[2, FORWARD]])\n",
    "    lab.commit()\n",
    "    time.sleep(0.2)\n",
    "    lab.send(P1, [[2, FORWARD]])\n",
    "    lab.commit()\n",
    "    time.sleep(0.2)\n",
    "    lab.send(P1, [[2, TWO]])\n",
    "    lab.commit()\n",
    "    time.sleep(0.4)\n",
    "    lab.send(P1, [[2, TWO]])\n",
    "    lab.commit()\n",
    "    time.sleep(1)\n",
    "\n",
    "# Finish with Start button\n",
    "lab.send(P1, [[2, XINPUT_START]])\n",
    "lab.commit()\n",
    "\n",
    "# Press the 3 button shortly after Start\n",
    "time.sleep(0.2)\n",
    "lab.send(P1, [[3, XINPUT_A]])\n",
    "lab.commit()\n"
   ]
  },
  {
   "cell_type": "code",
   "execution_count": 12,
   "metadata": {},
   "outputs": [],
   "source": [
    "# Start recording\n",
    "lab.send(P1, [[3, XINPUT_BACK, XINPUT_B]])\n",
    "lab.commit()\n",
    "time.sleep(0.5)\n",
    "\n",
    "# Dash TWO DOWN FORWARD TWO\n",
    "lab.send(P1, [[2, FORWARD]])\n",
    "lab.commit()\n",
    "time.sleep(0.2)\n",
    "lab.send(P1, [[2, FORWARD]])\n",
    "lab.commit()\n",
    "time.sleep(0.2)\n",
    "lab.send(P1, [[2, TWO]])\n",
    "lab.commit()\n",
    "time.sleep(0.4)\n",
    "lab.send(P1, [[2, DOWN, FORWARD, TWO]])\n",
    "lab.commit()\n",
    "time.sleep(1)\n",
    "\n",
    "# Finish with Start button\n",
    "lab.send(P1, [[2, XINPUT_START]])\n",
    "lab.commit()\n",
    "\n",
    "# Press the 3 button shortly after Start\n",
    "time.sleep(0.2)\n",
    "lab.send(P1, [[4, XINPUT_A]])\n",
    "lab.commit()\n"
   ]
  },
  {
   "cell_type": "code",
   "execution_count": 13,
   "metadata": {},
   "outputs": [],
   "source": [
    "# Start recording\n",
    "lab.send(P1, [[2, XINPUT_BACK, XINPUT_B]])\n",
    "lab.commit()\n",
    "time.sleep(0.5)\n",
    "\n",
    "# Dash TWO, TWO, Dash TWO, DOWN FORWARD TWO, then BACK\n",
    "# First Dash\n",
    "lab.send(P1, [[2, FORWARD]])\n",
    "lab.commit()\n",
    "time.sleep(0.2)\n",
    "lab.send(P1, [[2, FORWARD]])\n",
    "lab.commit()\n",
    "time.sleep(0.2)\n",
    "lab.send(P1, [[2, TWO]])\n",
    "lab.commit()\n",
    "time.sleep(0.4)\n",
    "lab.send(P1, [[2, TWO]])\n",
    "lab.commit()\n",
    "time.sleep(0.4)\n",
    "\n",
    "# Second Dash\n",
    "lab.send(P1, [[2, FORWARD]])\n",
    "lab.commit()\n",
    "time.sleep(0.2)\n",
    "lab.send(P1, [[2, FORWARD]])\n",
    "lab.commit()\n",
    "time.sleep(0.3)\n",
    "lab.send(P1, [[2, TWO]])\n",
    "lab.commit()\n",
    "time.sleep(0.4)\n",
    "\n",
    "# DOWN FORWARD TWO\n",
    "lab.send(P1, [[2, DOWN, FORWARD, TWO]])\n",
    "lab.commit()\n",
    "time.sleep(0.3)\n",
    "\n",
    "# Hold BACK to move backward\n",
    "lab.send(P1, [[10, BACK]])\n",
    "lab.commit()\n",
    "time.sleep(1)  # This delay can be adjusted depending on how long you want to hold BACK\n",
    "\n",
    "# Finish with Start button\n",
    "lab.send(P1, [[2, XINPUT_START]])\n",
    "lab.commit()\n",
    "time.sleep(0.3)\n",
    "# Press the 3 button (assuming XINPUT_A is the correct button and it's labeled as '3' in your control scheme) shortly after Start\n",
    "time.sleep(0.2)\n",
    "lab.send(P1, [[10, XINPUT_A]])\n",
    "lab.commit()\n"
   ]
  },
  {
   "cell_type": "code",
   "execution_count": 14,
   "metadata": {},
   "outputs": [],
   "source": [
    "# Start recording\n",
    "lab.send(P1, [[1, XINPUT_BACK, XINPUT_B]])\n",
    "lab.commit()\n",
    "time.sleep(0.5)\n",
    "\n",
    "\n",
    "# Dash TWO, TWO, Dash TWO, DOWN FORWARD TWO, then BACK\n",
    "lab.send(P1, [[2, FORWARD]])\n",
    "lab.commit()\n",
    "time.sleep(0.2)\n",
    "lab.send(P1, [[2, FORWARD]])\n",
    "lab.commit()\n",
    "time.sleep(0.2)\n",
    "lab.send(P1, [[2, TWO]])\n",
    "lab.commit()\n",
    "time.sleep(0.4)\n",
    "lab.send(P1, [[2, TWO]])\n",
    "lab.commit()\n",
    "time.sleep(0.5)\n",
    "# Second Dash\n",
    "lab.send(P1, [[2, FORWARD]])\n",
    "lab.commit()\n",
    "time.sleep(0.2)\n",
    "lab.send(P1, [[2, FORWARD]])\n",
    "lab.commit()\n",
    "time.sleep(0.2)\n",
    "lab.send(P1, [[2, TWO]])\n",
    "lab.commit()\n",
    "time.sleep(0.4)\n",
    "lab.send(P1, [[2, TWO]])\n",
    "lab.commit()\n",
    "time.sleep(0.4)\n",
    " # Dash TWO DOWN FORWARD TWO\n",
    "lab.send(P1, [[2, FORWARD]])\n",
    "lab.commit()\n",
    "time.sleep(0.2)\n",
    "lab.send(P1, [[2, FORWARD]])\n",
    "lab.commit()\n",
    "time.sleep(0.2)\n",
    "lab.send(P1, [[2, TWO]])\n",
    "lab.commit()\n",
    "time.sleep(0.4)\n",
    "lab.send(P1, [[2, DOWN, FORWARD, TWO]])\n",
    "lab.commit()\n",
    "time.sleep(0.4)\n",
    "\n",
    "# Hold BACK to move backward\n",
    "lab.send(P1, [[10, BACK]])\n",
    "lab.commit()\n",
    "time.sleep(1)  # This delay can be adjusted depending on how long you want to hold BACK\n",
    "\n",
    "# Finish with Start button\n",
    "lab.send(P1, [[2, XINPUT_START]])\n",
    "lab.commit()\n",
    "\n",
    "# Press the 3 button shortly after Start\n",
    "time.sleep(0.2)\n",
    "lab.send(P1, [[4, XINPUT_A]])\n",
    "lab.commit()\n"
   ]
  },
  {
   "cell_type": "code",
   "execution_count": null,
   "metadata": {},
   "outputs": [],
   "source": [
    "lab.stop()"
   ]
  },
  {
   "cell_type": "code",
   "execution_count": null,
   "metadata": {},
   "outputs": [],
   "source": [
    "lab.restart()"
   ]
  }
 ],
 "metadata": {
  "kernelspec": {
   "display_name": "Python 3 (ipykernel)",
   "language": "python",
   "name": "python3"
  },
  "language_info": {
   "codemirror_mode": {
    "name": "ipython",
    "version": 3
   },
   "file_extension": ".py",
   "mimetype": "text/x-python",
   "name": "python",
   "nbconvert_exporter": "python",
   "pygments_lexer": "ipython3",
   "version": "3.12.3"
  }
 },
 "nbformat": 4,
 "nbformat_minor": 4
}
